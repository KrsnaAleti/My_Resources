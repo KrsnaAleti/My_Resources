{
 "cells": [
  {
   "cell_type": "markdown",
   "metadata": {},
   "source": [
    "### Scripting with Python"
   ]
  },
  {
   "cell_type": "markdown",
   "metadata": {},
   "source": [
    "https://en.wikipedia.org/wiki/Python_Imaging_Library"
   ]
  },
  {
   "cell_type": "markdown",
   "metadata": {},
   "source": [
    "https://pillow.readthedocs.io/en/stable/"
   ]
  },
  {
   "cell_type": "code",
   "execution_count": 1,
   "metadata": {},
   "outputs": [
    {
     "name": "stdout",
     "output_type": "stream",
     "text": [
      "Requirement already satisfied: Pillow in c:\\users\\krishnaaleti\\anaconda3\\lib\\site-packages (8.0.1)\n",
      "Note: you may need to restart the kernel to use updated packages.\n"
     ]
    }
   ],
   "source": [
    "pip install Pillow"
   ]
  },
  {
   "cell_type": "markdown",
   "metadata": {},
   "source": [
    "https://www.geeksforgeeks.org/os-module-python-examples/\n",
    "\n",
    "https://www.tutorialspoint.com/python/os_mkdir.htm\n",
    "\\\n",
    "https://www.ibm.com/docs/en/aix/7.2?topic=modes-numeric-representation-access"
   ]
  },
  {
   "cell_type": "markdown",
   "metadata": {},
   "source": [
    "\"D:\\Edu\\Python_ZTM\\Scripting_Images\"\n",
    "\n",
    "\"D:\\Edu\\Python_ZTM\\Scripting_PDF\"\n",
    "\n",
    "\"D:\\Edu\\Python_ZTM\\Scripting_emails\"\n",
    "\n",
    "\"D:\\Edu\\Python_ZTM\\Scripting_Passwordchecker\""
   ]
  },
  {
   "cell_type": "markdown",
   "metadata": {},
   "source": [
    "##### Hash Generators"
   ]
  },
  {
   "cell_type": "markdown",
   "metadata": {},
   "source": [
    "https://www.miraclesalad.com/webtools/md5.php \n",
    "    \n",
    "https://passwordsgenerator.net/sha1-hash-generator/"
   ]
  },
  {
   "cell_type": "markdown",
   "metadata": {},
   "source": [
    "Some key aspects of hash functions.\n",
    "\n",
    "1. It's one way.In the sense that if I give somebody Hash of password, they have no idea what the input was and\n",
    "it's practically impossible for me to have any clue as to what the input is.\n",
    "2. Hash is always same for the same input, it won't change until we change the input. If I give it the same input, it's going to give me the same result.But I have no idea how to convert this back into hello. - Idempotent(saying that a function, given an input, always outputs the same output.)\n",
    "\n",
    "\n",
    "Technically, a hash function that we use for hash tables is going to take input, generate some sort\n",
    "of gibberish and then convert it to an index base or an address base that it has based on this hash.\n",
    "\n",
    "\n",
    "To review, we have a key that is grapes, we send it through a hash function that is going to hash something\n",
    "\n",
    "really, really fast and then map whatever the hash came out to be into a memory address where we want\n",
    "\n",
    "to store our Data which is graps=10000.\n",
    "\n",
    "***we usually assume a time, complexity or bigo notation of O1, because this happens really fast."
   ]
  },
  {
   "cell_type": "markdown",
   "metadata": {},
   "source": [
    "### Twitter bot"
   ]
  },
  {
   "cell_type": "markdown",
   "metadata": {},
   "source": [
    "https://developer.twitter.com/en/docs/basics/developer-portal/faq\n",
    "\n",
    "https://developer.twitter.com/en/docs/twitter-api\n",
    "\n",
    "https://developer.twitter.com/en/apply-for-access"
   ]
  },
  {
   "cell_type": "markdown",
   "metadata": {},
   "source": [
    "Tweepy: https://www.tweepy.org/"
   ]
  },
  {
   "cell_type": "code",
   "execution_count": null,
   "metadata": {},
   "outputs": [],
   "source": [
    "#You will need to PIP INSTALL tweepy for this to work and also create a twitter API. Run this on your own machine, not in this Repl. \n",
    "import tweepy\n",
    "import time\n",
    "\n",
    "consumer_key = ''\n",
    "consumer_secret = ''\n",
    "access_token = ''\n",
    "access_token_secret = ''\n",
    "auth = tweepy.OAuthHandler(consumer_key, consumer_secret)\n",
    "auth.set_access_token(access_token, access_token_secret)\n",
    "api = tweepy.API(auth)\n",
    "\n",
    "user = api.me()\n",
    "print (user.name) #prints your name.\n",
    "print (user.screen_name)\n",
    "print (user.followers_count)\n",
    "\n",
    "search = \"zerotomastery\"\n",
    "numberOfTweets = 2\n",
    "\n",
    "def limit_handle(cursor):\n",
    "  while True:\n",
    "    try:\n",
    "      yield cursor.next()\n",
    "    except tweepy.RateLimitError:\n",
    "      time.sleep(1000)\n",
    "\n",
    "#Be nice to your followers. Follow everyone!\n",
    "for follower in limit_handle(tweepy.Cursor(api.followers).items()):\n",
    "  if follower.name == 'Usernamehere':\n",
    "    print(follower.name)\n",
    "    follower.follow()\n",
    "\n",
    "\n",
    "# Be a narcisist and love your own tweets. or retweet anything with a keyword!\n",
    "for tweet in tweepy.Cursor(api.search, search).items(numberOfTweets):\n",
    "    try:\n",
    "        tweet.favorite()\n",
    "        print('Retweeted the tweet')\n",
    "    except tweepy.TweepError as e:\n",
    "        print(e.reason)\n",
    "    except StopIteration:\n",
    "        break"
   ]
  },
  {
   "cell_type": "markdown",
   "metadata": {},
   "source": [
    "##### SMS with Python: https://www.twilio.com/docs"
   ]
  },
  {
   "cell_type": "markdown",
   "metadata": {},
   "source": [
    "### Scraping Data with Python"
   ]
  },
  {
   "cell_type": "markdown",
   "metadata": {},
   "source": [
    "Webscraping usecases: https://www.excellarate.com/blogs/web-scraping-introduction-applications-and-best-practices/#:~:text=Web%20scraping%20typically%20extracts%20large,show%20data%20from%20a%20website."
   ]
  },
  {
   "cell_type": "markdown",
   "metadata": {},
   "source": [
    "url: https://www.airbnb.co.in/\n",
    "        \n",
    "use robots.txt at the end of url to check what is allowed and not allowed for scraping of a particular website: https://www.airbnb.co.in/robots.txt (whatever not present here can be scraped)\n",
    "\n",
    "actually we can scrap everything and no one can prevent us but we should be ethical and should only scrap allowed items."
   ]
  },
  {
   "cell_type": "markdown",
   "metadata": {},
   "source": [
    "The only thing that they ask is that we have a crawl delay of 30, that is if we're going to crawl their\n",
    "Web site, we should have a pause so that we don't constantly use programs to hit the Web site because,\n",
    "well, this is going to overload their servers and maybe slow down their website."
   ]
  },
  {
   "cell_type": "markdown",
   "metadata": {},
   "source": [
    "chrome plugin of webscraper:- https://chrome.google.com/webstore/detail/web-scraper-free-web-scra/jnhgnonknehpejjnehehllkliplmbmhn?hl=en"
   ]
  },
  {
   "cell_type": "markdown",
   "metadata": {},
   "source": [
    "some APIs which gives us the infromation for free: https://swapi.dev/ \n",
    "\n",
    "https://swapi.dev/api/people\n",
    "\n",
    "https://jsonplaceholder.typicode.com/"
   ]
  },
  {
   "cell_type": "markdown",
   "metadata": {},
   "source": [
    "The easiest way to get data from a website is usually using an API."
   ]
  },
  {
   "cell_type": "markdown",
   "metadata": {},
   "source": [
    "##### Scraping"
   ]
  },
  {
   "cell_type": "markdown",
   "metadata": {},
   "source": [
    "Scraping Hacker rank and getting news having more than 100 votes"
   ]
  },
  {
   "cell_type": "markdown",
   "metadata": {},
   "source": [
    "https://www.crummy.com/software/BeautifulSoup/\n",
    "\n",
    "https://www.crummy.com/software/BeautifulSoup/bs4/doc/"
   ]
  },
  {
   "cell_type": "markdown",
   "metadata": {},
   "source": [
    "https://developer.mozilla.org/en-US/docs/Learn/CSS/Building_blocks/Selectors"
   ]
  },
  {
   "cell_type": "markdown",
   "metadata": {},
   "source": [
    "https://docs.python.org/3/library/pprint.html"
   ]
  },
  {
   "cell_type": "markdown",
   "metadata": {},
   "source": [
    "https://scrapy.org/"
   ]
  },
  {
   "cell_type": "code",
   "execution_count": null,
   "metadata": {},
   "outputs": [],
   "source": []
  }
 ],
 "metadata": {
  "hide_input": false,
  "kernelspec": {
   "display_name": "Python 3 (ipykernel)",
   "language": "python",
   "name": "python3"
  },
  "language_info": {
   "codemirror_mode": {
    "name": "ipython",
    "version": 3
   },
   "file_extension": ".py",
   "mimetype": "text/x-python",
   "name": "python",
   "nbconvert_exporter": "python",
   "pygments_lexer": "ipython3",
   "version": "3.10.12"
  },
  "toc": {
   "base_numbering": 1,
   "nav_menu": {},
   "number_sections": true,
   "sideBar": true,
   "skip_h1_title": false,
   "title_cell": "Table of Contents",
   "title_sidebar": "Contents",
   "toc_cell": false,
   "toc_position": {},
   "toc_section_display": true,
   "toc_window_display": false
  },
  "varInspector": {
   "cols": {
    "lenName": 16,
    "lenType": 16,
    "lenVar": 40
   },
   "kernels_config": {
    "python": {
     "delete_cmd_postfix": "",
     "delete_cmd_prefix": "del ",
     "library": "var_list.py",
     "varRefreshCmd": "print(var_dic_list())"
    },
    "r": {
     "delete_cmd_postfix": ") ",
     "delete_cmd_prefix": "rm(",
     "library": "var_list.r",
     "varRefreshCmd": "cat(var_dic_list()) "
    }
   },
   "types_to_exclude": [
    "module",
    "function",
    "builtin_function_or_method",
    "instance",
    "_Feature"
   ],
   "window_display": false
  }
 },
 "nbformat": 4,
 "nbformat_minor": 4
}
